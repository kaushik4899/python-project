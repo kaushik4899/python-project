{
 "cells": [
  {
   "cell_type": "code",
   "execution_count": 1,
   "id": "c891b3fe",
   "metadata": {},
   "outputs": [
    {
     "name": "stdout",
     "output_type": "stream",
     "text": [
      "Enter any number: 55\n",
      "Too low\n",
      "Enter number again: 88\n",
      "Too low\n",
      "Enter number again: 156\n",
      "Too high!\n",
      "Enter number again: 125\n",
      "Too high!\n",
      "Enter number again: 100\n",
      "Too high!\n",
      "Enter number again: 95\n",
      "Too low\n",
      "Enter number again: 97\n",
      "Too high!\n",
      "Enter number again: 96\n",
      "you guessed it right!!\n"
     ]
    }
   ],
   "source": [
    "# to import random module\n",
    "import random\n",
    "# to create a range of random numbers between 1-10\n",
    "n = random.randrange(1,100)\n",
    "# to take a user input to enter a number\n",
    "guess = int(input(\"Enter any number: \"))\n",
    "while n!= guess: # means if n is not equal to the input guess\n",
    "    # if guess is smaller than n\n",
    "    if guess < n:\n",
    "        print(\"Too low\")\n",
    "        # to again ask for input\n",
    "        guess = int(input(\"Enter number again: \"))\n",
    "    # if guess is greater than n\n",
    "    elif guess > n:\n",
    "        print(\"Too high!\")\n",
    "        # to again ask for the user input\n",
    "        guess = int(input(\"Enter number again: \"))\n",
    "    # if guess gets equals to n terminate the while loop\n",
    "    else:\n",
    "        break\n",
    "print(\"you guessed it right!!\")"
   ]
  },
  {
   "cell_type": "code",
   "execution_count": null,
   "id": "738274dc",
   "metadata": {},
   "outputs": [],
   "source": []
  }
 ],
 "metadata": {
  "kernelspec": {
   "display_name": "Python 3 (ipykernel)",
   "language": "python",
   "name": "python3"
  },
  "language_info": {
   "codemirror_mode": {
    "name": "ipython",
    "version": 3
   },
   "file_extension": ".py",
   "mimetype": "text/x-python",
   "name": "python",
   "nbconvert_exporter": "python",
   "pygments_lexer": "ipython3",
   "version": "3.9.12"
  }
 },
 "nbformat": 4,
 "nbformat_minor": 5
}
